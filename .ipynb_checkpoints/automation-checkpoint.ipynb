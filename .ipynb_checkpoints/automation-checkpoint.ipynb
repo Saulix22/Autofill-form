{
 "cells": [
  {
   "cell_type": "code",
   "execution_count": 295,
   "id": "b7a36fba",
   "metadata": {},
   "outputs": [],
   "source": [
    "from selenium import webdriver\n",
    "import time"
   ]
  },
  {
   "cell_type": "code",
   "execution_count": 296,
   "id": "fee5a8f9",
   "metadata": {},
   "outputs": [],
   "source": [
    "driver = webdriver.Chrome()\n",
    "time.sleep(1)"
   ]
  },
  {
   "cell_type": "code",
   "execution_count": 297,
   "id": "0e60b2a5",
   "metadata": {},
   "outputs": [],
   "source": [
    "driver.get('http://10.21.30.24:8000/admin/Inventory/material/add/')"
   ]
  },
  {
   "cell_type": "code",
   "execution_count": 298,
   "id": "b40a61ed",
   "metadata": {},
   "outputs": [],
   "source": [
    "username = driver.find_element('xpath', '//*[@id=\"id_username\"]').send_keys('Saul')\n",
    "password = driver.find_element('name', 'password').send_keys('Mello2022')\n",
    "login = driver.find_element('xpath', '//*[@id=\"login-form\"]/div[3]/input').click()"
   ]
  },
  {
   "cell_type": "code",
   "execution_count": 299,
   "id": "025b1f31",
   "metadata": {},
   "outputs": [],
   "source": [
    "import pandas as pd\n"
   ]
  },
  {
   "cell_type": "code",
   "execution_count": 300,
   "id": "73053de9",
   "metadata": {},
   "outputs": [],
   "source": [
    "df = pd.read_csv('materiales.csv')"
   ]
  },
  {
   "cell_type": "code",
   "execution_count": 301,
   "id": "1d6a7045",
   "metadata": {},
   "outputs": [
    {
     "data": {
      "text/html": [
       "<div>\n",
       "<style scoped>\n",
       "    .dataframe tbody tr th:only-of-type {\n",
       "        vertical-align: middle;\n",
       "    }\n",
       "\n",
       "    .dataframe tbody tr th {\n",
       "        vertical-align: top;\n",
       "    }\n",
       "\n",
       "    .dataframe thead th {\n",
       "        text-align: right;\n",
       "    }\n",
       "</style>\n",
       "<table border=\"1\" class=\"dataframe\">\n",
       "  <thead>\n",
       "    <tr style=\"text-align: right;\">\n",
       "      <th></th>\n",
       "      <th>SKU</th>\n",
       "      <th>Nombre</th>\n",
       "      <th>Area</th>\n",
       "      <th>Unidad</th>\n",
       "      <th>Estatus</th>\n",
       "      <th>Minimo</th>\n",
       "      <th>Maximo</th>\n",
       "      <th>Stock</th>\n",
       "    </tr>\n",
       "  </thead>\n",
       "  <tbody>\n",
       "    <tr>\n",
       "      <th>0</th>\n",
       "      <td>AAA-356</td>\n",
       "      <td>14/3 SJOWA BLK CABLE ELECTRICO DE TRES PUNTAS,...</td>\n",
       "      <td>Mantenimiento</td>\n",
       "      <td>PC</td>\n",
       "      <td>Disponible</td>\n",
       "      <td>1</td>\n",
       "      <td>2</td>\n",
       "      <td>1</td>\n",
       "    </tr>\n",
       "    <tr>\n",
       "      <th>1</th>\n",
       "      <td>AAA-357</td>\n",
       "      <td>CABLE ELECTRICO VERDE CALIBRE 12/ 500'/CARRETE</td>\n",
       "      <td>Mantenimiento</td>\n",
       "      <td>PC</td>\n",
       "      <td>Disponible</td>\n",
       "      <td>1</td>\n",
       "      <td>2</td>\n",
       "      <td>1</td>\n",
       "    </tr>\n",
       "    <tr>\n",
       "      <th>2</th>\n",
       "      <td>AAA-358</td>\n",
       "      <td>ALDANA  CUADRADO</td>\n",
       "      <td>Mantenimiento</td>\n",
       "      <td>PC</td>\n",
       "      <td>Exceso</td>\n",
       "      <td>1</td>\n",
       "      <td>2</td>\n",
       "      <td>100</td>\n",
       "    </tr>\n",
       "  </tbody>\n",
       "</table>\n",
       "</div>"
      ],
      "text/plain": [
       "       SKU                                             Nombre           Area   \n",
       "0  AAA-356  14/3 SJOWA BLK CABLE ELECTRICO DE TRES PUNTAS,...  Mantenimiento  \\\n",
       "1  AAA-357     CABLE ELECTRICO VERDE CALIBRE 12/ 500'/CARRETE  Mantenimiento   \n",
       "2  AAA-358                                   ALDANA  CUADRADO  Mantenimiento   \n",
       "\n",
       "  Unidad     Estatus  Minimo  Maximo   Stock  \n",
       "0     PC  Disponible       1        2      1  \n",
       "1     PC  Disponible       1        2      1  \n",
       "2     PC      Exceso       1        2    100  "
      ]
     },
     "execution_count": 301,
     "metadata": {},
     "output_type": "execute_result"
    }
   ],
   "source": [
    "df"
   ]
  },
  {
   "cell_type": "code",
   "execution_count": null,
   "id": "355aac45",
   "metadata": {},
   "outputs": [],
   "source": [
    "areas_dic = {\n",
    "    'Seguridad': '//*[@id=\"id_id_area\"]/option[2]',\n",
    "    'Producción': '//*[@id=\"id_id_area\"]/option[3]',\n",
    "    'Empaque': '//*[@id=\"id_id_area\"]/option[4]',\n",
    "    'Cafetería': '//*[@id=\"id_id_area\"]/option[5]',\n",
    "    'Limpieza': '//*[@id=\"id_id_area\"]/option[6]',\n",
    "    'HDW': '//*[@id=\"id_id_area\"]/option[7]',\n",
    "    'Mantenimiento': '//*[@id=\"id_id_area\"]/option[8]',\n",
    "    'ToolRoom': '//*[@id=\"id_id_area\"]/option[9]'\n",
    "}\n",
    "\n",
    "for row, data in df.iterrows():\n",
    "    sku = data['SKU']\n",
    "    nombre = data['Nombre']\n",
    "    area = data['Area']\n",
    "    unidad = data['Unidad']\n",
    "    estatus = data['Estatus']\n",
    "    minimo = data['Minimo']\n",
    "    maximo = data['Maximo ']\n",
    "    stock = data['Stock']\n",
    "    \n",
    "    sku_field = driver.find_element('name', 'sku').send_keys(sku)\n",
    "    nombre_field = driver.find_element('name', 'nombre').send_keys(nombre)\n",
    "    unidad_field = driver.find_element('name', 'unidad').send_keys(unidad)\n",
    "    minimo_field = driver.find_element('name', 'stock_minimo').clear()\n",
    "    driver.find_element('name', 'stock_minimo').send_keys(minimo)\n",
    "    driver.find_element('name', 'stock_maximo').clear()\n",
    "    maximo_field = driver.find_element('name', 'stock_maximo').send_keys(maximo)\n",
    "    driver.find_element('name', 'stock').clear()\n",
    "    stock_field = driver.find_element('name', 'stock').send_keys(stock)\n",
    "    estatus_field = driver.find_element('name', 'estatus').send_keys(estatus)    \n",
    "    driver.find_element('xpath', '//*[@id=\"id_imagen\"]').send_keys(\"C:\\\\Users\\\\Shernandez\\\\Pictures\\\\logo.png\")\n",
    "    driver.find_element('xpath', '//*[@id=\"id_id_area\"]').click()\n",
    "    driver.find_element('xpath', areas_dic[area]).click()\n",
    "    \n",
    "    time.sleep(3)\n",
    "    driver.find_element('xpath', '//*[@id=\"material_form\"]/div/div/input[2]').click()\n",
    "    time.sleep(3)"
   ]
  },
  {
   "cell_type": "code",
   "execution_count": 263,
   "id": "ffa141a0",
   "metadata": {},
   "outputs": [],
   "source": []
  }
 ],
 "metadata": {
  "kernelspec": {
   "display_name": "Python 3 (ipykernel)",
   "language": "python",
   "name": "python3"
  },
  "language_info": {
   "codemirror_mode": {
    "name": "ipython",
    "version": 3
   },
   "file_extension": ".py",
   "mimetype": "text/x-python",
   "name": "python",
   "nbconvert_exporter": "python",
   "pygments_lexer": "ipython3",
   "version": "3.11.1"
  }
 },
 "nbformat": 4,
 "nbformat_minor": 5
}
