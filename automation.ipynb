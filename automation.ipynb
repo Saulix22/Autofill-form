{
 "cells": [
  {
   "cell_type": "code",
   "execution_count": 326,
   "id": "0a0428bd",
   "metadata": {},
   "outputs": [],
   "source": [
    "from selenium import webdriver\n",
    "import time"
   ]
  },
  {
   "cell_type": "code",
   "execution_count": 327,
   "id": "8c9860e3",
   "metadata": {},
   "outputs": [],
   "source": [
    "driver = webdriver.Chrome()\n",
    "time.sleep(1)"
   ]
  },
  {
   "cell_type": "code",
   "execution_count": 328,
   "id": "6f443663",
   "metadata": {},
   "outputs": [],
   "source": [
    "driver.get('http://10.21.30.24:8000/admin/Inventory/material/add/')"
   ]
  },
  {
   "cell_type": "code",
   "execution_count": 329,
   "id": "99df8303",
   "metadata": {},
   "outputs": [],
   "source": [
    "username = driver.find_element('xpath', '//*[@id=\"id_username\"]').send_keys('Saul')\n",
    "password = driver.find_element('name', 'password').send_keys('Mello2022')\n",
    "login = driver.find_element('xpath', '//*[@id=\"login-form\"]/div[3]/input').click()"
   ]
  },
  {
   "cell_type": "code",
   "execution_count": 330,
   "id": "87552a09",
   "metadata": {},
   "outputs": [],
   "source": [
    "import pandas as pd\n"
   ]
  },
  {
   "cell_type": "code",
   "execution_count": 331,
   "id": "53fe80bd",
   "metadata": {},
   "outputs": [],
   "source": [
    "df = pd.read_csv('materiales.csv')"
   ]
  },
  {
   "cell_type": "code",
   "execution_count": 333,
   "id": "be63f6cc",
   "metadata": {},
   "outputs": [],
   "source": [
    "areas_dic = {\n",
    "    'Seguridad': '//*[@id=\"id_id_area\"]/option[2]',\n",
    "    'Producción': '//*[@id=\"id_id_area\"]/option[3]',\n",
    "    'Empaque': '//*[@id=\"id_id_area\"]/option[4]',\n",
    "    'Cafetería': '//*[@id=\"id_id_area\"]/option[5]',\n",
    "    'Limpieza': '//*[@id=\"id_id_area\"]/option[6]',\n",
    "    'HDW': '//*[@id=\"id_id_area\"]/option[7]',\n",
    "    'Mantenimiento': '//*[@id=\"id_id_area\"]/option[8]',\n",
    "    'ToolRoom': '//*[@id=\"id_id_area\"]/option[9]'\n",
    "}\n",
    "\n",
    "for row, data in df.iterrows():\n",
    "    sku = data['SKU']\n",
    "    nombre = data['Nombre']\n",
    "    area = data['Area']\n",
    "    unidad = data['Unidad']\n",
    "    estatus = data['Estatus']\n",
    "    minimo = data['Minimo']\n",
    "    maximo = data['Maximo ']\n",
    "    stock = data['Stock']\n",
    "    \n",
    "    sku_field = driver.find_element('name', 'sku').send_keys(sku)\n",
    "    nombre_field = driver.find_element('name', 'nombre').send_keys(nombre)\n",
    "    unidad_field = driver.find_element('name', 'unidad').send_keys(unidad)\n",
    "    minimo_field = driver.find_element('name', 'stock_minimo').clear()\n",
    "    driver.find_element('name', 'stock_minimo').send_keys(minimo)\n",
    "    driver.find_element('name', 'stock_maximo').clear()\n",
    "    maximo_field = driver.find_element('name', 'stock_maximo').send_keys(maximo)\n",
    "    driver.find_element('name', 'stock').clear()\n",
    "    stock_field = driver.find_element('name', 'stock').send_keys(stock)\n",
    "    estatus_field = driver.find_element('name', 'estatus').send_keys(estatus)    \n",
    "    driver.find_element('xpath', '//*[@id=\"id_imagen\"]').send_keys(\"C:\\\\Users\\\\Shernandez\\\\Pictures\\\\logo.png\")\n",
    "    driver.find_element('xpath', '//*[@id=\"id_id_area\"]').click()\n",
    "    driver.find_element('xpath', areas_dic[area]).click()\n",
    "    \n",
    "    time.sleep(3)\n",
    "    driver.find_element('xpath', '//*[@id=\"material_form\"]/div/div/input[2]').click()\n",
    "    time.sleep(3)"
   ]
  },
  {
   "cell_type": "code",
   "execution_count": 263,
   "id": "a120c11e",
   "metadata": {},
   "outputs": [],
   "source": []
  }
 ],
 "metadata": {
  "kernelspec": {
   "display_name": "Python 3 (ipykernel)",
   "language": "python",
   "name": "python3"
  },
  "language_info": {
   "codemirror_mode": {
    "name": "ipython",
    "version": 3
   },
   "file_extension": ".py",
   "mimetype": "text/x-python",
   "name": "python",
   "nbconvert_exporter": "python",
   "pygments_lexer": "ipython3",
   "version": "3.11.1"
  }
 },
 "nbformat": 4,
 "nbformat_minor": 5
}
